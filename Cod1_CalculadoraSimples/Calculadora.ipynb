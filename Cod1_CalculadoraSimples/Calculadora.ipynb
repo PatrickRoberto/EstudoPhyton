{
 "cells": [
  {
   "cell_type": "code",
   "execution_count": 1,
   "metadata": {},
   "outputs": [
    {
     "name": "stdout",
     "output_type": "stream",
     "text": [
      "Calculadora\n",
      "\n",
      "\n",
      "Digite o número a opção que deseja\n",
      "Somar: 1\n",
      "Subtrair: 2\n",
      "Multiplicar: 3\n",
      "Dividir: 4\n",
      "\n",
      "\n",
      "Digite (1/2/3/4)3\n",
      "Digite o valor 1: 10\n",
      "Digite o valor 2: 25\n",
      "10 x 25 = 250\n"
     ]
    }
   ],
   "source": [
    "#Calculadora\n",
    "print(\"Calculadora\")\n",
    "print(\"\\n\")\n",
    "print(\"Digite o número a opção que deseja\")\n",
    "print(\"Somar: 1\")\n",
    "print(\"Subtrair: 2\")\n",
    "print(\"Multiplicar: 3\")\n",
    "print(\"Dividir: 4\")\n",
    "print(\"\\n\")\n",
    "op = int(input(\"Digite (1/2/3/4)\"))\n",
    "\n",
    "if op  < 1 or op > 4:\n",
    "    print(\"Valor Invalido\")\n",
    "\n",
    "\n",
    "val1 = int(input(\"Digite o valor 1: \"))\n",
    "val2 = int(input(\"Digite o valor 2: \"))\n",
    "ModeloSaida = \"{} {} {} = {}\"\n",
    "if op == 1:\n",
    "    saida = str.format(ModeloSaida, val1, \"+\", val2, (val1 + val2))\n",
    "elif op == 2:\n",
    "    saida = str.format(ModeloSaida, val1, \"-\", val2, (val1 - val2))\n",
    "elif op == 3:\n",
    "    saida = str.format(ModeloSaida, val1, \"x\", val2, (val1 * val2))\n",
    "elif op == 4:\n",
    "    saida = str.format(ModeloSaida, val1, \"-\", val2, (val1 - val2))\n",
    "else:\n",
    "    print(\"Erro na operação\")\n",
    "\n",
    "print(saida)\n"
   ]
  }
 ],
 "metadata": {
  "kernelspec": {
   "display_name": "Python 3",
   "language": "python",
   "name": "python3"
  },
  "language_info": {
   "codemirror_mode": {
    "name": "ipython",
    "version": 3
   },
   "file_extension": ".py",
   "mimetype": "text/x-python",
   "name": "python",
   "nbconvert_exporter": "python",
   "pygments_lexer": "ipython3",
   "version": "3.7.3"
  }
 },
 "nbformat": 4,
 "nbformat_minor": 2
}
